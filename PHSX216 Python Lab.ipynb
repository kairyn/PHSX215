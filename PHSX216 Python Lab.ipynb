{
 "cells": [
  {
   "cell_type": "code",
   "execution_count": 8,
   "id": "1ee07a4f",
   "metadata": {},
   "outputs": [
    {
     "name": "stdout",
     "output_type": "stream",
     "text": [
      "The uncertainty in velocity one is  0.023157917079326122 m/s\n",
      "The uncertainty in velocity two is  0.015235331578925494 m/s\n",
      "2.155524785273698\n"
     ]
    }
   ],
   "source": [
    "import numpy as np\n",
    "\n",
    "\"\"\"RULES OF UNCERTAINTY\"\"\"\n",
    "\n",
    "def rule1(c,dA): #where Q=cA and c is constant\n",
    "    dQ=abs(c)*dA\n",
    "    return dQ\n",
    "\n",
    "def rule2(c,A,dA,m): #where Q = cA**m where c,m constants\n",
    "    dQ=c*m*(A**(m-1))*dA\n",
    "    return dQ\n",
    "\n",
    "def rule3(da,db): #where Q = A+B or A-B\n",
    "    dQ=np.sqrt(da**2+db**2)\n",
    "    return dQ\n",
    "\n",
    "def rule4(Q,A,dA,m,B,dB,n,C,dC,expC,D,dD,expD): #where Q = c * A^m *B^n\n",
    "    dQ = Q*np.sqrt((m*dA/A)**2+(n*dB/B)**2+(expC*dC/C)**2+(expD*dD/D)**2)\n",
    "    return dQ\n",
    "\n",
    "\"Solving for V1\"\n",
    "\n",
    "mM= 0.2578\n",
    "dmM= 0.0001\n",
    "expmM= 1\n",
    "m= 0.0662\n",
    "dm= 0.0001\n",
    "expm= -1\n",
    "sqtgx2= np.sqrt(9.806*2)\n",
    "R= 0.257\n",
    "dR= 0.005\n",
    "expR=0.5\n",
    "ratR= 0.06502560972 #1-cos theta\n",
    "dratR= 0.0004281444835\n",
    "expratR= 0.5\n",
    "V1= 2.229434123\n",
    "\n",
    "\n",
    "dV1= rule4(V1,mM,dmM,expmM,m,dm,expm,R,dR,expR,ratR,dratR,expratR) #did v1 instead ooops\n",
    "\n",
    "print(\"The uncertainty in velocity one is \",dV1,\"m/s\")\n",
    "\n",
    "\n",
    "\"Solving for v2\"\n",
    "\n",
    "x=0.9681\n",
    "x_floor=0.8225\n",
    "dx_floor=0.005\n",
    "x_paper=0.1456\n",
    "dx_paper=0.003978956995\n",
    "dx=rule3(dx_floor,dx_paper)\n",
    "expx=1\n",
    "y=0.989\n",
    "dy=0.005\n",
    "expy=(-0.5)\n",
    "V2=x*np.sqrt(9.806/(2*y))\n",
    "\n",
    "dV2=rule4(V2,x,dx,expx,y,dy,expy,1,0,0,1,0,0)\n",
    "\n",
    "print(\"The uncertainty in velocity two is \",dV2,\"m/s\") #ended up doing v2 also just to see if I could #also printed v2 here at the bottom by accident apologies\n"
   ]
  },
  {
   "cell_type": "code",
   "execution_count": 5,
   "id": "add9d43f",
   "metadata": {},
   "outputs": [
    {
     "name": "stdout",
     "output_type": "stream",
     "text": [
      "The standard deviation of x is  0.17950549357115014\n",
      "The mean of x is 1.1166666666666667\n"
     ]
    }
   ],
   "source": [
    "\"Array section\"\n",
    "\n",
    "x=np.array([1.1, 1.3, 1.4, 0.9, 0.95, 1.05])\n",
    "\n",
    "std_x=np.std(x)\n",
    "print (\"The standard deviation of x is \",std_x)\n",
    "\n",
    "xmean=np.average(x)\n",
    "print (\"The mean of x is\",xmean)\n"
   ]
  },
  {
   "cell_type": "markdown",
   "id": "29fa0e4d",
   "metadata": {},
   "source": [
    "\"LaTeX Section\"\n",
    "\n",
    "\n",
    "$ \\delta Q = \\sqrt{(\\delta A)^2 + (\\delta B)^2} $"
   ]
  },
  {
   "cell_type": "code",
   "execution_count": null,
   "id": "9c369876",
   "metadata": {},
   "outputs": [],
   "source": []
  }
 ],
 "metadata": {
  "kernelspec": {
   "display_name": "Python 3",
   "language": "python",
   "name": "python3"
  },
  "language_info": {
   "codemirror_mode": {
    "name": "ipython",
    "version": 3
   },
   "file_extension": ".py",
   "mimetype": "text/x-python",
   "name": "python",
   "nbconvert_exporter": "python",
   "pygments_lexer": "ipython3",
   "version": "3.8.8"
  }
 },
 "nbformat": 4,
 "nbformat_minor": 5
}
